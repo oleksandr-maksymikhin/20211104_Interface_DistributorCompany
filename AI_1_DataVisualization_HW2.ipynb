{
  "cells": [
    {
      "cell_type": "markdown",
      "metadata": {
        "id": "view-in-github",
        "colab_type": "text"
      },
      "source": [
        "<a href=\"https://colab.research.google.com/github/oleksandr-maksymikhin/20211104_Interface_DistributorCompany/blob/master/AI_1_DataVisualization_HW2.ipynb\" target=\"_parent\"><img src=\"https://colab.research.google.com/assets/colab-badge.svg\" alt=\"Open In Colab\"/></a>"
      ]
    },
    {
      "cell_type": "code",
      "execution_count": null,
      "metadata": {
        "id": "hFrZ66HiTQrX"
      },
      "outputs": [],
      "source": [
        "# MIT License\n",
        "#\n",
        "# @title Copyright (c) 2025 Ana Trisovic { display-mode: \"form\" }\n",
        "\n",
        "# Permission is hereby granted, free of charge, to any person obtaining a\n",
        "# copy of this software and associated documentation files (the \"Software\"),\n",
        "# to deal in the Software without restriction, including without limitation\n",
        "# the rights to use, copy, modify, merge, publish, distribute, sublicense,\n",
        "# and/or sell copies of the Software, and to permit persons to whom the\n",
        "# Software is furnished to do so, subject to the following conditions:\n",
        "#\n",
        "# The above copyright notice and this permission notice shall be included in\n",
        "# all copies or substantial portions of the Software.\n",
        "#\n",
        "# THE SOFTWARE IS PROVIDED \"AS IS\", WITHOUT WARRANTY OF ANY KIND, EXPRESS OR\n",
        "# IMPLIED, INCLUDING BUT NOT LIMITED TO THE WARRANTIES OF MERCHANTABILITY,\n",
        "# FITNESS FOR A PARTICULAR PURPOSE AND NONINFRINGEMENT. IN NO EVENT SHALL\n",
        "# THE AUTHORS OR COPYRIGHT HOLDERS BE LIABLE FOR ANY CLAIM, DAMAGES OR OTHER\n",
        "# LIABILITY, WHETHER IN AN ACTION OF CONTRACT, TORT OR OTHERWISE, ARISING\n",
        "# FROM, OUT OF OR IN CONNECTION WITH THE SOFTWARE OR THE USE OR OTHER\n",
        "# DEALINGS IN THE SOFTWARE."
      ]
    },
    {
      "cell_type": "markdown",
      "metadata": {
        "id": "_E-sHxD-TQrY"
      },
      "source": [
        "# Welcome to the UAI Course on Effective Data Visualization"
      ]
    },
    {
      "cell_type": "markdown",
      "metadata": {
        "id": "8-OfxHHUTQrZ"
      },
      "source": [
        "## Part 2: Descriptive Statistics\n",
        "\n",
        "<small>Expected completion time: 30 minutes</small>\n",
        "\n",
        "### Ana Trisovic\n",
        "\n",
        "### Quick Overview\n",
        "\n",
        "This interactive tutorial introduces the foundational concepts of data visualization in Python and provides hands-on experience with key techniques for exploring data trends. You'll learn how to create and customize common chart types—like pie charts, line plots, and bar graphs—using libraries such as `matplotlib` and `seaborn`.\n",
        "\n",
        "Through multiple examples, the tutorial emphasizes not just how to visualize data, but also how to enhance visual appeal and clarity using styles, color palettes, and layout customization. By the end, you’ll be comfortable building aesthetically pleasing and insightful charts from scratch.\n",
        "\n",
        "<small>See also:</small>\n",
        "- <small>Previous</small>\n",
        "- <small>Next</small>\n",
        "\n",
        "## Getting Started: Software Prerequisites & Setup\n",
        "\n",
        "### 📦 Package Requirements\n",
        "\n",
        "In this course, we'll be working with three essential Python libraries for data visualization These packages serve distinct and complementary purposes:\n",
        "\n",
        "- **Pandas**: for handling and manipulating structured datasets.\n",
        "- **Matplotlib**: the foundational plotting library for Python, offering fine-grained control over plots.\n",
        "- **Seaborn**: built on top of Matplotlib, it provides a high-level interface for creating attractive and informative statistical graphics.\n",
        "\n",
        "### 🛠 Installation\n",
        "\n",
        "If these packages are not already installed in your environment, you can install them using `pip`\n",
        "\n",
        "💬 You may see a warning or version compatibility notice (especially in environments like Google Colab). As long as the core functionality works, these can typically be ignored."
      ]
    },
    {
      "cell_type": "code",
      "execution_count": null,
      "metadata": {
        "id": "oIUPHzQdTQrZ"
      },
      "outputs": [],
      "source": [
        "import pandas as pd"
      ]
    },
    {
      "cell_type": "markdown",
      "source": [
        "## Task 1: Read and filter data\n",
        "\n",
        "Read in the file `Nutrition__Physical_Activity__and_Obesity_-_Behavioral_Risk_Factor_Surveillance_System.csv` as a DataFrame using Pandas. Name this DataFrame `brfss`.\n",
        "\n",
        "Then, create a new DataFrame called `x` that is `brfss` that has been filtered to those rows who's `Question` column takes on the value `Percent of adults who achieve at least 150 minutes a week of moderate-intensity aerobic physical activity or 75 minutes a week of vigorous-intensity aerobic physical activity and engage in muscle-strengthening activities on 2 or more days a week`.\n",
        "\n",
        "Use the `.head()` function to examine your new DataFrame, `x` and to examine the original DataFrame `brfss`."
      ],
      "metadata": {
        "id": "vE7Gwt8ST43z"
      }
    },
    {
      "cell_type": "code",
      "execution_count": null,
      "metadata": {
        "id": "cgAbpB4xTQrZ"
      },
      "outputs": [],
      "source": [
        "# TODO"
      ]
    },
    {
      "cell_type": "markdown",
      "source": [
        "## Task 2: Pivot Table\n",
        "\n",
        "Take the `brfss` DataFrame and generate a pivot table from it, which you should name `pivoted_df`. You shoud use the following columns as the index: `YearEnd, LocationAbbr, Income`. The columns of the pivot table should be from the `Question` column, and the values of the pivot table should be the average of the `Data_Value` column. Remember to reset the index."
      ],
      "metadata": {
        "id": "i203ZGnWT7-w"
      }
    },
    {
      "cell_type": "code",
      "execution_count": null,
      "metadata": {
        "id": "r16aGIIlTQra"
      },
      "outputs": [],
      "source": [
        "# TODO"
      ]
    },
    {
      "cell_type": "markdown",
      "source": [
        "## Task 3: Rename columns\n",
        "\n",
        "Rename the columns of the pivot table `pivoted_df` as follows:\n",
        "\n",
        "| Original column name | New column name |\n",
        "| ----------- | ----------- |\n",
        "| Percent of adults aged 18 years and older who have an overweight classification | Overweight |\n",
        "| Percent of adults aged 18 years and older who have obesity | Obesity |\n",
        "| Percent of adults who achieve at least 150 minutes a week of moderate-intensity aerobic physical activity or 75 minutes a week of vigorous-intensity aerobic activity (or an equivalent combination) | Meets Basic Activity |\n",
        "| Percent of adults who achieve at least 150 minutes a week of moderate-intensity aerobic physical activity or 75 minutes a week of vigorous-intensity aerobic activity (or an equivalent combination) | Meets Basic Activity |\n",
        "| Percent of adults who achieve at least 150 minutes a week of moderate-intensity aerobic physical activity or 75 minutes a week of vigorous-intensity aerobic physical activity and engage in muscle-strengthening activities on 2 or more days a week | Meets Full Guidelines |\n",
        "| Percent of adults who achieve at least 150 minutes a week of moderate-intensity aerobic physical activity or 75 minutes a week of vigorous-intensity aerobic activity (or an equivalent combination) | Meets Basic Activity |\n",
        "| Percent of adults who achieve at least 300 minutes a week of moderate-intensity aerobic physical activity or 150 minutes a week of vigorous-intensity aerobic activity (or an equivalent combination) | High Activity Level |\n",
        "| Percent of adults who engage in muscle-strengthening activities on 2 or more days a week | Strength Training |\n",
        "| Percent of adults who achieve at least 150 minutes a week of moderate-intensity aerobic physical activity or 75 minutes a week of vigorous-intensity aerobic activity (or an equivalent combination) | Meets Basic Activity |\n",
        "| Percent of adults who engage in no leisure-time physical activity | Inactive |\n",
        "| Percent of adults who achieve at least 150 minutes a week of moderate-intensity aerobic physical activity or 75 minutes a week of vigorous-intensity aerobic activity (or an equivalent combination) | Meets Basic Activity |\n",
        "| Percent of adults who report consuming fruit less than one time daily | Low Fruit Intake |\n",
        "| Percent of adults who achieve at least 150 minutes a week of moderate-intensity aerobic physical activity or 75 minutes a week of vigorous-intensity aerobic activity (or an equivalent combination) | Meets Basic Activity |\n",
        "| Percent of adults who report consuming vegetables less than one time daily | Low Vegetable Intake |"
      ],
      "metadata": {
        "id": "htXZECVpUASI"
      }
    },
    {
      "cell_type": "code",
      "execution_count": null,
      "metadata": {
        "id": "TvF2foMNTQra"
      },
      "outputs": [],
      "source": [
        "# TODO"
      ]
    },
    {
      "cell_type": "markdown",
      "source": [
        "## Task 4: Seaborn pairwise relationships\n",
        "\n",
        "Using Seaborn, generate a plot of pairwise relationships in `pivoted_df`; make sure to only use the numeric columns in `pivoted_df`. For the keyword arguments in the Seaborn `.pairplot()` function, set `alpha` to 0.6."
      ],
      "metadata": {
        "id": "ed3AGv3KUDRO"
      }
    },
    {
      "cell_type": "code",
      "execution_count": null,
      "metadata": {
        "id": "3n11yq6gTQra"
      },
      "outputs": [],
      "source": [
        "# TODO"
      ]
    },
    {
      "cell_type": "markdown",
      "source": [
        "## Task 5: Seaborn bar chart\n",
        "\n",
        "Using Seaborn, generate a vertical bar chart of the information in `pivoted_df`, using the column `Income` as the x-axis and the column `Obesity` as the y-axis."
      ],
      "metadata": {
        "id": "7Pml01Q2UGga"
      }
    },
    {
      "cell_type": "code",
      "execution_count": null,
      "metadata": {
        "id": "veVc0uTvTQra"
      },
      "outputs": [],
      "source": [
        "# TODO"
      ]
    },
    {
      "cell_type": "markdown",
      "source": [
        "## Task 6: Seaborn line chart\n",
        "\n",
        "Using Seaborn, we will generate two types of line charts.\n",
        "\n",
        "The first line chart is a single line chart from the information in `pivoted_df`, where the x-axis is the `YearEnd` column and the y-axis values are the `Overweight` column.\n",
        "\n",
        "The second line chart is a multi-line line chart from the information in `pivoted_df`. The x-axis is the `YearEnd` column, and the line chart should consist of 3 lines, generated from the following 3 columns: `Obesity`, `Meets Basic Activity`, and `Inactive`.  "
      ],
      "metadata": {
        "id": "K8I98BHQULjC"
      }
    },
    {
      "cell_type": "code",
      "execution_count": null,
      "metadata": {
        "id": "dLb2i67LTQrb"
      },
      "outputs": [],
      "source": [
        "# TODO: first line chart"
      ]
    },
    {
      "cell_type": "code",
      "execution_count": null,
      "metadata": {
        "id": "j6PwYBh9TQrb"
      },
      "outputs": [],
      "source": [
        "# TODO: second line chart"
      ]
    }
  ],
  "metadata": {
    "language_info": {
      "name": "python"
    },
    "colab": {
      "provenance": [],
      "include_colab_link": true
    }
  },
  "nbformat": 4,
  "nbformat_minor": 0
}